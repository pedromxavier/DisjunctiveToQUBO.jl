{
 "cells": [
  {
   "cell_type": "code",
   "execution_count": 1,
   "metadata": {},
   "outputs": [
    {
     "name": "stderr",
     "output_type": "stream",
     "text": [
      "\u001b[32m\u001b[1m  Activating\u001b[22m\u001b[39m project at `~/gits/DisjunctiveToQUBO.jl`\n"
     ]
    }
   ],
   "source": [
    "import Pkg\n",
    "\n",
    "Pkg.activate(joinpath(@__DIR__, \"..\"))\n",
    "Pkg.instantiate()\n",
    "\n",
    "Pkg.add(\"ToQUBO\", rev=\"px/indicator\")\n",
    "Pkg.add(\"DisjunctiveProgramming\", rev=\"master\")"
   ]
  },
  {
   "cell_type": "code",
   "execution_count": 1,
   "metadata": {},
   "outputs": [],
   "source": [
    "using JuMP\n",
    "using ToQUBO                 #px/indicator\n",
    "using DisjunctiveProgramming #master\n",
    "using DisjunctiveToQUBO"
   ]
  },
  {
   "cell_type": "code",
   "execution_count": null,
   "metadata": {},
   "outputs": [],
   "source": [
    "# Set parameters\n",
    "cx = [1.5, 1]\n",
    "cy = [6.1, 5.9]\n",
    "α = [0.75, 0.8]\n",
    "d = 3 # not specified in the problem, I think it is 3"
   ]
  },
  {
   "cell_type": "code",
   "execution_count": null,
   "metadata": {},
   "outputs": [],
   "source": [
    "# Create the model\n",
    "model = GDPModel(\n",
    "    # Use ToQUBO in compilation mode\n",
    "    () -> ToQUBO.Optimizer(nothing)\n",
    ")"
   ]
  },
  {
   "cell_type": "code",
   "execution_count": null,
   "metadata": {},
   "outputs": [],
   "source": [
    "# Add the variables\n",
    "@variable(model, 0 <= x[1:2] <= 5)\n",
    "@variable(model, y[1:2], Logical)"
   ]
  },
  {
   "cell_type": "code",
   "execution_count": null,
   "metadata": {},
   "outputs": [],
   "source": [
    "# Add the objective\n",
    "@objective(model, Min, cx' * x.^2 + cy' * binary_variable.(y))"
   ]
  },
  {
   "cell_type": "code",
   "execution_count": null,
   "metadata": {},
   "outputs": [],
   "source": [
    "# Create the disjunction constraint\n",
    "@constraint(model, x[2] <= 0, Disjunct(y[1]))\n",
    "@constraint(model, x[1] <= 0, Disjunct(y[2]))\n",
    "\n",
    "disjunction(model, y, exactly1 = true) # explcitly show the keyword to add an exactly 1 constraint "
   ]
  },
  {
   "cell_type": "code",
   "execution_count": null,
   "metadata": {},
   "outputs": [],
   "source": [
    "# Add the global constrainbt\n",
    "@constraint(model, α'x >= d)"
   ]
  },
  {
   "cell_type": "code",
   "execution_count": null,
   "metadata": {},
   "outputs": [],
   "source": [
    "# Solve the model\n",
    "optimize!(model, method = Indicator())"
   ]
  }
 ],
 "metadata": {
  "kernelspec": {
   "display_name": "Julia 1.9.3",
   "language": "julia",
   "name": "julia-1.9"
  },
  "language_info": {
   "file_extension": ".jl",
   "mimetype": "application/julia",
   "name": "julia",
   "version": "1.9.3"
  }
 },
 "nbformat": 4,
 "nbformat_minor": 2
}
