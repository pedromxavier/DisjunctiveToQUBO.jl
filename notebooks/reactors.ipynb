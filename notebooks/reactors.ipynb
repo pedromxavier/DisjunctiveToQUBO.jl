{
 "cells": [
  {
   "cell_type": "code",
   "execution_count": 1,
   "metadata": {},
   "outputs": [],
   "source": [
    "import Pkg\n",
    "\n",
    "Pkg.activate(@__DIR__)"
   ]
  },
  {
   "cell_type": "code",
   "execution_count": 3,
   "metadata": {},
   "outputs": [],
   "source": [
    "using JuMP\n",
    "using ToQUBO                 #px/indicator\n",
    "using DisjunctiveProgramming #master\n",
    "using DisjunctiveToQUBO\n",
    "using QUBOTools\n",
    "using LinearAlgebra"
   ]
  },
  {
   "cell_type": "code",
   "execution_count": 120,
   "metadata": {},
   "outputs": [],
   "source": [
    "MOI.get(model::ToQUBO.Optimizer, ::MOI.TerminationStatus) = MOI.OPTIMAL"
   ]
  },
  {
   "cell_type": "code",
   "execution_count": 55,
   "metadata": {},
   "outputs": [
    {
     "data": {
      "text/plain": [
       "3"
      ]
     },
     "metadata": {},
     "output_type": "display_data"
    }
   ],
   "source": [
    "# Set parameters\n",
    "cx = [1.5, 1]\n",
    "cy = [6.1, 5.9]\n",
    "α  = [0.75, 0.8]\n",
    "d  = 3 # not specified in the problem, I think it is 3"
   ]
  },
  {
   "cell_type": "markdown",
   "metadata": {},
   "source": [
    "$$\n",
    "\\begin{array}{rll}\n",
    "    \\displaystyle \\min_{\\mathbf{x}, \\mathbf{Y}} & \\mathbf{c_{x}}'\\mathbf{x} + \\mathbf{c_{y}}'\\mathbf{y} \\\\\n",
    "    \\textrm{s.t.} & \\mathbf{\\alpha}'\\mathbf{x} \\ge d \\\\[0.75em]\n",
    "                  & \\displaystyle%\n",
    "                    \\bigvee_{i = 1}^{2} \\left[\\begin{array}{c} Y_{i} \\\\ x_{i} \\leq 0 \\end{array}\\right] \\\\[1.75em]\n",
    "                  & 0 \\leq x_{i} \\leq 5 & \\forall i \\\\\n",
    "                  & Y_{i} \\iff y_{i} = 1 & \\forall i \\\\\n",
    "                  & Y_{i} \\in \\{\\textrm{True}, \\textrm{False}\\} & \\forall i \\\\\n",
    "                  & y_{i} \\in \\{0, 1\\} & \\forall i \\\\[1em]\n",
    "   \\textrm{data}  & \\mathbf{c_{x}} = [1.5, 1] \\\\\n",
    "                  & \\mathbf{c_{y}} = [6.1, 5.9] \\\\\n",
    "                  & \\mathbf{\\alpha} = [0.75, 8] \\\\\n",
    "                  & d = 3\n",
    "\\end{array}\n",
    "$$"
   ]
  },
  {
   "cell_type": "code",
   "execution_count": null,
   "metadata": {},
   "outputs": [],
   "source": []
  },
  {
   "cell_type": "code",
   "execution_count": 121,
   "metadata": {},
   "outputs": [
    {
     "name": "stdout",
     "output_type": "stream",
     "text": [
      "Min 1.5 x[1]² + x[2]² + 6.1 y[1] + 5.9 y[2]\n",
      "Subject to\n",
      " balance : 0.75 x[1] + 0.8 x[2] ≥ 3\n",
      " x[1] ≥ 0\n",
      " x[2] ≥ 0\n",
      " x[1] ≤ 5\n",
      " x[2] ≤ 5\n",
      " y[1] binary\n",
      " y[2] binary\n"
     ]
    }
   ],
   "source": [
    "# Create the model\n",
    "model = GDPModel(\n",
    "    # Use ToQUBO in compilation mode\n",
    "    () -> ToQUBO.Optimizer(nothing)\n",
    ")\n",
    "\n",
    "# Add the variables\n",
    "@variable(model, 0 <= x[1:2] <= 5)\n",
    "@variable(model, Y[1:2], Logical)\n",
    "\n",
    "y = binary_variable.(Y)\n",
    "\n",
    "set_attribute.(x, ToQUBO.Attributes.VariableEncodingMethod(), ToQUBO.Encoding.Arithmetic{Float64}())\n",
    "\n",
    "# Add the objective\n",
    "@objective(model, Min, cx' * x.^2 + cy' * y)\n",
    "\n",
    "# Add the global constrainbt\n",
    "@constraint(model, balance, α'x >= d)\n",
    "\n",
    "# Create the disjunction constraint\n",
    "@constraint(model, x[2] <= 0, Disjunct(Y[1]))\n",
    "@constraint(model, x[1] <= 0, Disjunct(Y[2]))\n",
    "\n",
    "disjunction(model, Y, exactly1 = true) # explcitly show the keyword to add an exactly 1 constraint \n",
    "\n",
    "# Compile the QUBO model\n",
    "optimize!(model, gdp_method = Indicator())"
   ]
  },
  {
   "cell_type": "code",
   "execution_count": 113,
   "metadata": {},
   "outputs": [
    {
     "data": {
      "text/plain": [
       "21×21 Matrix{Float64}:\n",
       " -1.46091e5  67954.2         1.01931e5  …   302.0     0.0     0.0     0.0\n",
       "  0.0           -2.58206e5   2.03862e5     -302.0     0.0     0.0     0.0\n",
       "  0.0            0.0        -3.36343e5        0.0     0.0     0.0     0.0\n",
       "  0.0            0.0         0.0              0.0   453.0   302.0     0.0\n",
       "  0.0            0.0         0.0              0.0     0.0  -302.0   906.0\n",
       "  0.0            0.0         0.0        …     0.0  -453.0     0.0  -906.0\n",
       "  0.0            0.0         0.0              0.0  -453.0  -302.0  -906.0\n",
       "  0.0            0.0         0.0           -302.0     0.0     0.0     0.0\n",
       "  0.0            0.0         0.0              0.0     0.0     0.0     0.0\n",
       "  0.0            0.0         0.0              0.0     0.0     0.0     0.0\n",
       "  ⋮                                     ⋱                             ⋮\n",
       "  0.0            0.0         0.0              0.0     0.0     0.0     0.0\n",
       "  0.0            0.0         0.0              0.0     0.0     0.0     0.0\n",
       "  0.0            0.0         0.0              0.0     0.0     0.0     0.0\n",
       "  0.0            0.0         0.0        …     0.0     0.0     0.0     0.0\n",
       "  0.0            0.0         0.0              0.0     0.0     0.0     0.0\n",
       "  0.0            0.0         0.0            302.0     0.0     0.0     0.0\n",
       "  0.0            0.0         0.0              0.0   453.0     0.0     0.0\n",
       "  0.0            0.0         0.0              0.0     0.0   302.0     0.0\n",
       "  0.0            0.0         0.0        …     0.0     0.0     0.0   906.0"
      ]
     },
     "metadata": {},
     "output_type": "display_data"
    },
    {
     "name": "stdout",
     "output_type": "stream",
     "text": [
      "Variables: 21\n",
      "Coefficient range: (-369648.0, 750847.5)\n",
      "Offset: 391467.5\n"
     ]
    }
   ],
   "source": [
    "n, ℓ, q, a, b = QUBOTools.qubo(unsafe_backend(model), :dense);\n",
    "\n",
    "Q = q + diagm(ℓ)\n",
    "\n",
    "display(Q)\n",
    "println(\"Variables: $n\")\n",
    "println(\"Coefficient range: $(extrema(Q))\")\n",
    "println(\"Offset: $b\")"
   ]
  },
  {
   "cell_type": "code",
   "execution_count": null,
   "metadata": {},
   "outputs": [],
   "source": []
  }
 ],
 "metadata": {
  "kernelspec": {
   "display_name": "Julia 1.9.3",
   "language": "julia",
   "name": "julia-1.9"
  },
  "language_info": {
   "file_extension": ".jl",
   "mimetype": "application/julia",
   "name": "julia",
   "version": "1.9.3"
  }
 },
 "nbformat": 4,
 "nbformat_minor": 2
}
