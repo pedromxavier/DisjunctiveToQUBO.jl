{
 "cells": [
  {
   "cell_type": "markdown",
   "metadata": {},
   "source": [
    "# Disjunctive Programming meets Quadratic Unconstrained Binary Optimization"
   ]
  },
  {
   "cell_type": "markdown",
   "metadata": {},
   "source": []
  },
  {
   "cell_type": "code",
   "execution_count": 2,
   "metadata": {},
   "outputs": [
    {
     "name": "stderr",
     "output_type": "stream",
     "text": [
      "\u001b[32m\u001b[1m  Activating\u001b[22m\u001b[39m project at `~/gits/DisjunctiveToQUBO.jl/notebooks`\n"
     ]
    }
   ],
   "source": [
    "import Pkg\n",
    "\n",
    "Pkg.activate(@__DIR__)\n",
    "Pkg.instantiate();"
   ]
  },
  {
   "cell_type": "code",
   "execution_count": 5,
   "metadata": {},
   "outputs": [],
   "source": [
    "using JuMP\n",
    "using DisjunctiveProgramming\n",
    "using ToQUBO\n",
    "using DisjunctiveToQUBO\n",
    "using DWave\n",
    "using PySA"
   ]
  },
  {
   "cell_type": "markdown",
   "metadata": {},
   "source": [
    "## Experiment Planning\n",
    "\n",
    "| Reformulation Method | $n_{\\textrm{vars}}$ | $\\Delta$ | $\\textrm{TTS}_{\\textrm{SA}}$ | $n_{\\textrm{qubits}}$ | $\\textrm{TTS}_{\\textrm{QA}}$ |\n",
    "| --- | --- | --- | --- | --- | --- |\n",
    "| Big-$M$ | $?$ | $?$ | $?$ | $?$ | $?$ |\n",
    "| Hull | $?$ | $?$ | $?$ | $?$ | $?$ |\n",
    "| Indicator | $?$ | $?$ | $?$ | $?$ | $?$ |\n",
    "| Indicator+ | $?$ | $?$ | $?$ | $?$ | $?$ |"
   ]
  },
  {
   "cell_type": "code",
   "execution_count": null,
   "metadata": {},
   "outputs": [],
   "source": []
  }
 ],
 "metadata": {
  "kernelspec": {
   "display_name": "Julia 1.9.3",
   "language": "julia",
   "name": "julia-1.9"
  },
  "language_info": {
   "file_extension": ".jl",
   "mimetype": "application/julia",
   "name": "julia",
   "version": "1.9.3"
  }
 },
 "nbformat": 4,
 "nbformat_minor": 2
}
